{
 "cells": [
  {
   "cell_type": "markdown",
   "metadata": {},
   "source": [
    "# 주피터 노트북 사용법"
   ]
  },
  {
   "cell_type": "markdown",
   "metadata": {},
   "source": [
    "## 셀 색상\n",
    "초록색 : 입력모드\n",
    "\n",
    "파란색 : 명령모드"
   ]
  },
  {
   "cell_type": "markdown",
   "metadata": {},
   "source": [
    "## 단축키\n",
    "명령모드 + h : 도움말 열기"
   ]
  },
  {
   "cell_type": "markdown",
   "metadata": {},
   "source": [
    "명령모드 + a : 위로 셀 추가\n",
    "\n",
    "명령모드 + d두번 : 셀 삭제\n",
    "\n",
    "명령모드 + b : 아래로 셀 추가"
   ]
  },
  {
   "cell_type": "markdown",
   "metadata": {},
   "source": [
    "shift + enter : 셀 실행 -> 아래 셀로 이동\n",
    "\n",
    "ctrl + enter : 셀 실행\n",
    "\n",
    "옵션 + enter : 셀 실행 -> 아래로 셀 추가"
   ]
  },
  {
   "cell_type": "markdown",
   "metadata": {},
   "source": [
    "## 셀 타입\n",
    "### 셀 타입 변경\n",
    "Cell -> Cell Type -> Code / Markdown\n",
    "\n",
    "단축키 : 코드모드 + m / 코드모드 + y"
   ]
  },
  {
   "cell_type": "markdown",
   "metadata": {},
   "source": [
    "## Markdown 서식"
   ]
  },
  {
   "cell_type": "markdown",
   "metadata": {},
   "source": [
    "### 볼드체\n",
    "앞뒤 **\n",
    "\n",
    "**hello** python"
   ]
  },
  {
   "cell_type": "markdown",
   "metadata": {},
   "source": [
    "### 기울임\n",
    "앞뒤 *\n",
    "\n",
    "python is really *cool*"
   ]
  },
  {
   "cell_type": "markdown",
   "metadata": {},
   "source": [
    "### 리스트\n",
    "\\- (들여쓰기로 depth 줄 수 있음)\n",
    "\n",
    "- python\n",
    " - pandas\n",
    "   - depth1\n",
    "   - depth2\n",
    "- java"
   ]
  },
  {
   "cell_type": "markdown",
   "metadata": {},
   "source": [
    "### 번호 리스트\n",
    "숫자 1. 2. 3. ...\n",
    "\n",
    "1. python\n",
    "2. java\n",
    "3. c++"
   ]
  },
  {
   "cell_type": "markdown",
   "metadata": {},
   "source": [
    "### 인용구호\n",
    "\\>\n",
    "\n",
    "> 파이썬 재밌어"
   ]
  },
  {
   "cell_type": "markdown",
   "metadata": {},
   "source": [
    "### 수식\n",
    "앞뒤 $\n",
    "\n",
    "$y=3x$"
   ]
  },
  {
   "cell_type": "markdown",
   "metadata": {},
   "source": [
    "### 코드\n",
    "\\```python(언어 지정)\n",
    "\n",
    "코드\n",
    "\n",
    "\\```\n",
    "\n",
    "```python\n",
    "a = 10\n",
    "print(a)\n",
    "```"
   ]
  },
  {
   "cell_type": "markdown",
   "metadata": {},
   "source": [
    "### 링크\n",
    "단순입력\n",
    "\n",
    "www.python.org"
   ]
  },
  {
   "cell_type": "markdown",
   "metadata": {},
   "source": [
    "#### 링크 이름 변경\n",
    "\\[설명](url)\n",
    "\n",
    "[파이썬 공식 사이트](www.python.org)"
   ]
  },
  {
   "cell_type": "code",
   "execution_count": null,
   "metadata": {},
   "outputs": [],
   "source": []
  }
 ],
 "metadata": {
  "kernelspec": {
   "display_name": "Python 3",
   "language": "python",
   "name": "python3"
  },
  "language_info": {
   "codemirror_mode": {
    "name": "ipython",
    "version": 3
   },
   "file_extension": ".py",
   "mimetype": "text/x-python",
   "name": "python",
   "nbconvert_exporter": "python",
   "pygments_lexer": "ipython3",
   "version": "3.7.6"
  }
 },
 "nbformat": 4,
 "nbformat_minor": 4
}
